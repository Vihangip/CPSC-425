{
  "nbformat": 4,
  "nbformat_minor": 0,
  "metadata": {
    "colab": {
      "provenance": [],
      "authorship_tag": "ABX9TyNjVoathVmD/xlwYN32irBT",
      "include_colab_link": true
    },
    "kernelspec": {
      "name": "python3",
      "display_name": "Python 3"
    },
    "language_info": {
      "name": "python"
    }
  },
  "cells": [
    {
      "cell_type": "markdown",
      "metadata": {
        "id": "view-in-github",
        "colab_type": "text"
      },
      "source": [
        "<a href=\"https://colab.research.google.com/github/Vihangip/CPSC-425/blob/main/Assignment_5.ipynb\" target=\"_parent\"><img src=\"https://colab.research.google.com/assets/colab-badge.svg\" alt=\"Open In Colab\"/></a>"
      ]
    },
    {
      "cell_type": "markdown",
      "source": [
        "# Part 1: Stereo\n",
        "\n"
      ],
      "metadata": {
        "id": "wepII13tUR-t"
      }
    },
    {
      "cell_type": "markdown",
      "source": [
        "## *Question 1*"
      ],
      "metadata": {
        "id": "I_BNoJpXUWdX"
      }
    },
    {
      "cell_type": "code",
      "source": [],
      "metadata": {
        "id": "HYfOLnxYUZB6"
      },
      "execution_count": null,
      "outputs": []
    }
  ]
}